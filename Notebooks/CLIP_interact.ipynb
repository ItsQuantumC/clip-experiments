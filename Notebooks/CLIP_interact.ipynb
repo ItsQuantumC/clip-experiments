{
 "cells": [
  {
   "cell_type": "code",
   "execution_count": 2,
   "metadata": {},
   "outputs": [
    {
     "name": "stdout",
     "output_type": "stream",
     "text": [
      "Requirement already satisfied: ftfy in /pfs/work9/workspace/scratch/ma_okadam-CLIP_EXP/CLIP_0/lib/python3.9/site-packages (6.3.1)\n",
      "Requirement already satisfied: regex in /pfs/work9/workspace/scratch/ma_okadam-CLIP_EXP/CLIP_0/lib/python3.9/site-packages (2024.11.6)\n",
      "Requirement already satisfied: tqdm in /pfs/work9/workspace/scratch/ma_okadam-CLIP_EXP/CLIP_0/lib/python3.9/site-packages (4.67.1)\n",
      "Requirement already satisfied: wcwidth in /pfs/work9/workspace/scratch/ma_okadam-CLIP_EXP/CLIP_0/lib/python3.9/site-packages (from ftfy) (0.2.13)\n",
      "\u001b[33mWARNING: You are using pip version 21.2.3; however, version 25.0.1 is available.\n",
      "You should consider upgrading via the '/pfs/work9/workspace/scratch/ma_okadam-CLIP_EXP/CLIP_0/bin/python3 -m pip install --upgrade pip' command.\u001b[0m\n",
      "Collecting git+https://github.com/openai/CLIP.git\n",
      "  Cloning https://github.com/openai/CLIP.git to /scratch/pip-req-build-a7ec_qcy\n",
      "  Running command git clone -q https://github.com/openai/CLIP.git /scratch/pip-req-build-a7ec_qcy\n",
      "  Resolved https://github.com/openai/CLIP.git to commit dcba3cb2e2827b402d2701e7e1c7d9fed8a20ef1\n",
      "Requirement already satisfied: ftfy in /pfs/work9/workspace/scratch/ma_okadam-CLIP_EXP/CLIP_0/lib/python3.9/site-packages (from clip==1.0) (6.3.1)\n",
      "Requirement already satisfied: packaging in /pfs/work9/workspace/scratch/ma_okadam-CLIP_EXP/CLIP_0/lib/python3.9/site-packages (from clip==1.0) (24.2)\n",
      "Requirement already satisfied: regex in /pfs/work9/workspace/scratch/ma_okadam-CLIP_EXP/CLIP_0/lib/python3.9/site-packages (from clip==1.0) (2024.11.6)\n",
      "Requirement already satisfied: tqdm in /pfs/work9/workspace/scratch/ma_okadam-CLIP_EXP/CLIP_0/lib/python3.9/site-packages (from clip==1.0) (4.67.1)\n",
      "Requirement already satisfied: torch in /pfs/work9/workspace/scratch/ma_okadam-CLIP_EXP/CLIP_0/lib/python3.9/site-packages (from clip==1.0) (2.6.0+cu118)\n",
      "Requirement already satisfied: torchvision in /pfs/work9/workspace/scratch/ma_okadam-CLIP_EXP/CLIP_0/lib/python3.9/site-packages (from clip==1.0) (0.21.0+cu118)\n",
      "Requirement already satisfied: wcwidth in /pfs/work9/workspace/scratch/ma_okadam-CLIP_EXP/CLIP_0/lib/python3.9/site-packages (from ftfy->clip==1.0) (0.2.13)\n",
      "Requirement already satisfied: nvidia-cublas-cu11==11.11.3.6 in /pfs/work9/workspace/scratch/ma_okadam-CLIP_EXP/CLIP_0/lib/python3.9/site-packages (from torch->clip==1.0) (11.11.3.6)\n",
      "Requirement already satisfied: networkx in /pfs/work9/workspace/scratch/ma_okadam-CLIP_EXP/CLIP_0/lib/python3.9/site-packages (from torch->clip==1.0) (3.2.1)\n",
      "Requirement already satisfied: nvidia-cuda-nvrtc-cu11==11.8.89 in /pfs/work9/workspace/scratch/ma_okadam-CLIP_EXP/CLIP_0/lib/python3.9/site-packages (from torch->clip==1.0) (11.8.89)\n",
      "Requirement already satisfied: jinja2 in /pfs/work9/workspace/scratch/ma_okadam-CLIP_EXP/CLIP_0/lib/python3.9/site-packages (from torch->clip==1.0) (3.1.4)\n",
      "Requirement already satisfied: fsspec in /pfs/work9/workspace/scratch/ma_okadam-CLIP_EXP/CLIP_0/lib/python3.9/site-packages (from torch->clip==1.0) (2024.6.1)\n",
      "Requirement already satisfied: nvidia-cuda-cupti-cu11==11.8.87 in /pfs/work9/workspace/scratch/ma_okadam-CLIP_EXP/CLIP_0/lib/python3.9/site-packages (from torch->clip==1.0) (11.8.87)\n",
      "Requirement already satisfied: nvidia-cufft-cu11==10.9.0.58 in /pfs/work9/workspace/scratch/ma_okadam-CLIP_EXP/CLIP_0/lib/python3.9/site-packages (from torch->clip==1.0) (10.9.0.58)\n",
      "Requirement already satisfied: nvidia-cusparse-cu11==11.7.5.86 in /pfs/work9/workspace/scratch/ma_okadam-CLIP_EXP/CLIP_0/lib/python3.9/site-packages (from torch->clip==1.0) (11.7.5.86)\n",
      "Requirement already satisfied: typing-extensions>=4.10.0 in /pfs/work9/workspace/scratch/ma_okadam-CLIP_EXP/CLIP_0/lib/python3.9/site-packages (from torch->clip==1.0) (4.12.2)\n",
      "Requirement already satisfied: nvidia-cudnn-cu11==9.1.0.70 in /pfs/work9/workspace/scratch/ma_okadam-CLIP_EXP/CLIP_0/lib/python3.9/site-packages (from torch->clip==1.0) (9.1.0.70)\n",
      "Requirement already satisfied: nvidia-curand-cu11==10.3.0.86 in /pfs/work9/workspace/scratch/ma_okadam-CLIP_EXP/CLIP_0/lib/python3.9/site-packages (from torch->clip==1.0) (10.3.0.86)\n",
      "Requirement already satisfied: filelock in /pfs/work9/workspace/scratch/ma_okadam-CLIP_EXP/CLIP_0/lib/python3.9/site-packages (from torch->clip==1.0) (3.13.1)\n",
      "Requirement already satisfied: sympy==1.13.1 in /pfs/work9/workspace/scratch/ma_okadam-CLIP_EXP/CLIP_0/lib/python3.9/site-packages (from torch->clip==1.0) (1.13.1)\n",
      "Requirement already satisfied: nvidia-nccl-cu11==2.21.5 in /pfs/work9/workspace/scratch/ma_okadam-CLIP_EXP/CLIP_0/lib/python3.9/site-packages (from torch->clip==1.0) (2.21.5)\n",
      "Requirement already satisfied: nvidia-nvtx-cu11==11.8.86 in /pfs/work9/workspace/scratch/ma_okadam-CLIP_EXP/CLIP_0/lib/python3.9/site-packages (from torch->clip==1.0) (11.8.86)\n",
      "Requirement already satisfied: nvidia-cuda-runtime-cu11==11.8.89 in /pfs/work9/workspace/scratch/ma_okadam-CLIP_EXP/CLIP_0/lib/python3.9/site-packages (from torch->clip==1.0) (11.8.89)\n",
      "Requirement already satisfied: triton==3.2.0 in /pfs/work9/workspace/scratch/ma_okadam-CLIP_EXP/CLIP_0/lib/python3.9/site-packages (from torch->clip==1.0) (3.2.0)\n",
      "Requirement already satisfied: nvidia-cusolver-cu11==11.4.1.48 in /pfs/work9/workspace/scratch/ma_okadam-CLIP_EXP/CLIP_0/lib/python3.9/site-packages (from torch->clip==1.0) (11.4.1.48)\n",
      "Requirement already satisfied: mpmath<1.4,>=1.1.0 in /pfs/work9/workspace/scratch/ma_okadam-CLIP_EXP/CLIP_0/lib/python3.9/site-packages (from sympy==1.13.1->torch->clip==1.0) (1.3.0)\n",
      "Requirement already satisfied: MarkupSafe>=2.0 in /pfs/work9/workspace/scratch/ma_okadam-CLIP_EXP/CLIP_0/lib/python3.9/site-packages (from jinja2->torch->clip==1.0) (2.1.5)\n",
      "Requirement already satisfied: pillow!=8.3.*,>=5.3.0 in /pfs/work9/workspace/scratch/ma_okadam-CLIP_EXP/CLIP_0/lib/python3.9/site-packages (from torchvision->clip==1.0) (11.0.0)\n",
      "Requirement already satisfied: numpy in /pfs/work9/workspace/scratch/ma_okadam-CLIP_EXP/CLIP_0/lib/python3.9/site-packages (from torchvision->clip==1.0) (1.26.3)\n",
      "\u001b[33mWARNING: You are using pip version 21.2.3; however, version 25.0.1 is available.\n",
      "You should consider upgrading via the '/pfs/work9/workspace/scratch/ma_okadam-CLIP_EXP/CLIP_0/bin/python3 -m pip install --upgrade pip' command.\u001b[0m\n"
     ]
    }
   ],
   "source": [
    "! pip install ftfy regex tqdm\n",
    "! pip install git+https://github.com/openai/CLIP.git"
   ]
  },
  {
   "cell_type": "code",
   "execution_count": 3,
   "metadata": {},
   "outputs": [
    {
     "name": "stdout",
     "output_type": "stream",
     "text": [
      "Torch version: 2.6.0+cu118\n"
     ]
    }
   ],
   "source": [
    "import numpy as np\n",
    "import torch\n",
    "from pkg_resources import packaging\n",
    "\n",
    "print(\"Torch version:\", torch.__version__)"
   ]
  },
  {
   "cell_type": "code",
   "execution_count": 4,
   "metadata": {},
   "outputs": [
    {
     "data": {
      "text/plain": [
       "['RN50',\n",
       " 'RN101',\n",
       " 'RN50x4',\n",
       " 'RN50x16',\n",
       " 'RN50x64',\n",
       " 'ViT-B/32',\n",
       " 'ViT-B/16',\n",
       " 'ViT-L/14',\n",
       " 'ViT-L/14@336px']"
      ]
     },
     "execution_count": 4,
     "metadata": {},
     "output_type": "execute_result"
    }
   ],
   "source": [
    "import clip\n",
    "from PIL import Image\n",
    "import matplotlib.pyplot as plt\n",
    "import matplotlib\n",
    "\n",
    "\n",
    "clip.available_models()"
   ]
  },
  {
   "cell_type": "code",
   "execution_count": 5,
   "metadata": {},
   "outputs": [
    {
     "data": {
      "text/plain": [
       "<matplotlib.image.AxesImage at 0x14767a993a00>"
      ]
     },
     "execution_count": 5,
     "metadata": {},
     "output_type": "execute_result"
    },
    {
     "data": {
      "image/png": "[encoded data removed]",
      "text/plain": [
       "<Figure size 640x480 with 1 Axes>"
      ]
     },
     "metadata": {},
     "output_type": "display_data"
    }
   ],
   "source": [
    "import os\n",
    "import clip\n",
    "import torch\n",
    "from torchvision.datasets import CIFAR100\n",
    "\n",
    "# Load the model\n",
    "device = \"cuda\" if torch.cuda.is_available() else \"cpu\"\n",
    "model, preprocess = clip.load('ViT-L/14@336px', device)\n",
    "\n",
    "# Download the dataset\n",
    "cifar100 = CIFAR100(root=os.path.expanduser(\"~/.cache\"), download=True, train=False)\n",
    "\n",
    "# Prepare the inputs\n",
    "image, class_id = cifar100[1654]\n",
    "plt.imshow(image)\n"
   ]
  },
  {
   "cell_type": "code",
   "execution_count": 6,
   "metadata": {},
   "outputs": [
    {
     "name": "stdout",
     "output_type": "stream",
     "text": [
      "\n",
      "Top predictions:\n",
      "\n",
      "           shrew: 15.39%\n",
      "           woman: 14.84%\n",
      "            girl: 13.60%\n",
      "    pickup_truck: 4.57%\n",
      "          rabbit: 3.36%\n"
     ]
    }
   ],
   "source": [
    "image_input = preprocess(image).unsqueeze(0).to(device)\n",
    "text_inputs = torch.cat([clip.tokenize(f\"a photo of a {c}\") for c in cifar100.classes]).to(device)\n",
    "\n",
    "# Calculate features\n",
    "with torch.no_grad():\n",
    "    image_features = model.encode_image(image_input)\n",
    "    text_features = model.encode_text(text_inputs)\n",
    "\n",
    "# Pick the top 5 most similar labels for the image\n",
    "image_features /= image_features.norm(dim=-1, keepdim=True)\n",
    "text_features /= text_features.norm(dim=-1, keepdim=True)\n",
    "similarity = (100.0 * image_features @ text_features.T).softmax(dim=-1)\n",
    "values, indices = similarity[0].topk(5)\n",
    "\n",
    "# Print the result\n",
    "print(\"\\nTop predictions:\\n\")\n",
    "for value, index in zip(values, indices):\n",
    "    print(f\"{cifar100.classes[index]:>16s}: {100 * value.item():.2f}%\")"
   ]
  },
  {
   "cell_type": "code",
   "execution_count": 7,
   "metadata": {},
   "outputs": [
    {
     "data": {
      "text/plain": [
       "['RN50',\n",
       " 'RN101',\n",
       " 'RN50x4',\n",
       " 'RN50x16',\n",
       " 'RN50x64',\n",
       " 'ViT-B/32',\n",
       " 'ViT-B/16',\n",
       " 'ViT-L/14',\n",
       " 'ViT-L/14@336px']"
      ]
     },
     "execution_count": 7,
     "metadata": {},
     "output_type": "execute_result"
    }
   ],
   "source": [
    "clip.available_models()\n"
   ]
  },
  {
   "cell_type": "code",
   "execution_count": 9,
   "metadata": {},
   "outputs": [
    {
     "data": {
      "text/plain": [
       "<matplotlib.image.AxesImage at 0x14761cc15160>"
      ]
     },
     "execution_count": 9,
     "metadata": {},
     "output_type": "execute_result"
    },
    {
     "data": {
      "image/png": "[encoded data removed]",
      "text/plain": [
       "<Figure size 640x480 with 1 Axes>"
      ]
     },
     "metadata": {},
     "output_type": "display_data"
    }
   ],
   "source": [
    "from torchvision.datasets import CIFAR10\n",
    "\n",
    "# Load the model\n",
    "device = \"cuda\" if torch.cuda.is_available() else \"cpu\"\n",
    "model, preprocess = clip.load('RN101', device)\n",
    "\n",
    "# Download the dataset\n",
    "cifar10 = CIFAR10(root=os.path.expanduser(\"~/.cache\"), download=True, train=False)\n",
    "\n",
    "# Prepare the inputs\n",
    "image, class_id = cifar10[1876]\n",
    "plt.imshow(image)"
   ]
  },
  {
   "cell_type": "code",
   "execution_count": 11,
   "metadata": {},
   "outputs": [
    {
     "name": "stdout",
     "output_type": "stream",
     "text": [
      "\n",
      "Top predictions:\n",
      "\n",
      "            baby: 69.58%\n",
      "             bee: 13.43%\n",
      "            bear: 5.32%\n",
      "          beaver: 4.98%\n",
      "           apple: 2.37%\n"
     ]
    }
   ],
   "source": [
    "image_input = preprocess(image).unsqueeze(0).to(device)\n",
    "text_inputs = torch.cat([clip.tokenize(f\"a photo of a {c}\") for c in cifar10.classes]).to(device)\n",
    "\n",
    "# Calculate features\n",
    "with torch.no_grad():\n",
    "    image_features = model.encode_image(image_input)\n",
    "    text_features = model.encode_text(text_inputs)\n",
    "\n",
    "# Pick the top 5 most similar labels for the image\n",
    "image_features /= image_features.norm(dim=-1, keepdim=True)\n",
    "text_features /= text_features.norm(dim=-1, keepdim=True)\n",
    "similarity = (100.0 * image_features @ text_features.T).softmax(dim=-1)\n",
    "values, indices = similarity[0].topk(5)\n",
    "\n",
    "# Print the result\n",
    "print(\"\\nTop predictions:\\n\")\n",
    "for value, index in zip(values, indices):\n",
    "    print(f\"{cifar100.classes[index]:>16s}: {100 * value.item():.2f}%\")"
   ]
  },
  {
   "cell_type": "code",
   "execution_count": 12,
   "metadata": {},
   "outputs": [
    {
     "name": "stdout",
     "output_type": "stream",
     "text": [
      "\n",
      "Top predictions:\n",
      "\n",
      "      automobile: 57.19%\n",
      "           truck: 40.76%\n",
      "        airplane: 0.75%\n",
      "             dog: 0.57%\n",
      "            bird: 0.31%\n"
     ]
    },
    {
     "data": {
      "image/png": "[encoded data removed]",
      "text/plain": [
       "<Figure size 640x480 with 1 Axes>"
      ]
     },
     "metadata": {},
     "output_type": "display_data"
    }
   ],
   "source": [
    "# Prepare the inputs\n",
    "image, class_id = cifar10[1005]\n",
    "plt.imshow(image)\n",
    "\n",
    "image_input = preprocess(image).unsqueeze(0).to(device)\n",
    "text_inputs = torch.cat([clip.tokenize(f\"a photo of a {c}\") for c in cifar10.classes]).to(device)\n",
    "# Calculate features\n",
    "with torch.no_grad():\n",
    "    image_features = model.encode_image(image_input)\n",
    "    text_features = model.encode_text(text_inputs)\n",
    "# Pick the top 5 most similar labels for the image\n",
    "image_features /= image_features.norm(dim=-1, keepdim=True)\n",
    "text_features /= text_features.norm(dim=-1, keepdim=True)\n",
    "similarity = (100.0 * image_features @ text_features.T).softmax(dim=-1)\n",
    "values, indices = similarity[0].topk(5)\n",
    "# Print the result\n",
    "print(\"\\nTop predictions:\\n\")\n",
    "for value, index in zip(values, indices):\n",
    "    print(f\"{cifar10.classes[index]:>16s}: {100 * value.item():.2f}%\")"
   ]
  }
 ],
 "metadata": {
  "kernelspec": {
   "display_name": "CLIP_0",
   "language": "python",
   "name": "python3"
  },
  "language_info": {
   "codemirror_mode": {
    "name": "ipython",
    "version": 3
   },
   "file_extension": ".py",
   "mimetype": "text/x-python",
   "name": "python",
   "nbconvert_exporter": "python",
   "pygments_lexer": "ipython3",
   "version": "3.9.18"
  }
 },
 "nbformat": 4,
 "nbformat_minor": 2
}
